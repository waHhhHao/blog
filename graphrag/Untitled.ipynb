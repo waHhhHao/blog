{
 "cells": [
  {
   "cell_type": "code",
   "execution_count": 6,
   "id": "0f89316d-1a35-4bea-87df-1d6049e665a3",
   "metadata": {},
   "outputs": [],
   "source": [
    "import os\n",
    "import pandas as pd"
   ]
  },
  {
   "cell_type": "code",
   "execution_count": 7,
   "id": "5817182a-5208-4168-a3db-cb417f5faea8",
   "metadata": {},
   "outputs": [],
   "source": [
    "work_path = os.getcwd()"
   ]
  },
  {
   "cell_type": "code",
   "execution_count": 10,
   "id": "25763029-2c9c-467a-a755-5bf9b809b66d",
   "metadata": {},
   "outputs": [],
   "source": [
    "folder_path = r\"./output_data\""
   ]
  },
  {
   "cell_type": "code",
   "execution_count": 13,
   "id": "996e6696-b6ed-4251-9d68-b79bb6bd54bf",
   "metadata": {},
   "outputs": [
    {
     "name": "stdout",
     "output_type": "stream",
     "text": [
      "create_final_community_reports.parquet\n",
      "Index(['community', 'full_content', 'level', 'rank', 'title',\n",
      "       'rank_explanation', 'summary', 'findings', 'full_content_json', 'id'],\n",
      "      dtype='object')\n",
      "create_final_covariates.parquet\n",
      "Index(['id', 'human_readable_id', 'covariate_type', 'type', 'description',\n",
      "       'subject_id', 'subject_type', 'object_id', 'object_type', 'status',\n",
      "       'start_date', 'end_date', 'source_text', 'text_unit_id', 'document_ids',\n",
      "       'n_tokens'],\n",
      "      dtype='object')\n",
      "create_final_entities.parquet\n",
      "Index(['id', 'name', 'type', 'description', 'human_readable_id',\n",
      "       'graph_embedding', 'text_unit_ids', 'description_embedding'],\n",
      "      dtype='object')\n",
      "create_final_nodes.parquet\n",
      "Index(['level', 'title', 'type', 'description', 'source_id', 'community',\n",
      "       'degree', 'human_readable_id', 'id', 'size', 'graph_embedding',\n",
      "       'entity_type', 'top_level_node_id', 'x', 'y'],\n",
      "      dtype='object')\n",
      "create_final_relationships.parquet\n",
      "Index(['source', 'target', 'weight', 'description', 'text_unit_ids', 'id',\n",
      "       'human_readable_id', 'source_degree', 'target_degree', 'rank'],\n",
      "      dtype='object')\n",
      "create_final_text_units.parquet\n",
      "Index(['id', 'text', 'n_tokens', 'document_ids', 'entity_ids',\n",
      "       'relationship_ids', 'covariate_ids'],\n",
      "      dtype='object')\n"
     ]
    }
   ],
   "source": [
    "for root, dirs, files in os.walk(folder_path):\n",
    "    for file in files:\n",
    "        file_path = os.path.join(root, file)\n",
    "        df = pd.read_parquet(file_path)\n",
    "        print(file)\n",
    "        print(df.columns)"
   ]
  },
  {
   "cell_type": "code",
   "execution_count": null,
   "id": "54421012-2df4-43d9-8519-6674f7832074",
   "metadata": {},
   "outputs": [],
   "source": []
  }
 ],
 "metadata": {
  "kernelspec": {
   "display_name": "Python 3 (ipykernel)",
   "language": "python",
   "name": "python3"
  },
  "language_info": {
   "codemirror_mode": {
    "name": "ipython",
    "version": 3
   },
   "file_extension": ".py",
   "mimetype": "text/x-python",
   "name": "python",
   "nbconvert_exporter": "python",
   "pygments_lexer": "ipython3",
   "version": "3.12.2"
  }
 },
 "nbformat": 4,
 "nbformat_minor": 5
}
